{
 "cells": [
  {
   "cell_type": "code",
   "execution_count": 1,
   "metadata": {
    "collapsed": true
   },
   "outputs": [],
   "source": [
    "import cv2\n",
    "import numpy as np\n",
    "from utils import mix_color_grad_thresh, adaptive_equalize_image, weighted_img, region_of_interest, draw_windows\n",
    "from utils import CameraCalibrator, ProjectionManager, LineTracker\n",
    "from moviepy.editor import VideoFileClip\n",
    "import matplotlib.image as mpimg\n",
    "import matplotlib.pyplot as plt"
   ]
  },
  {
   "cell_type": "code",
   "execution_count": 2,
   "metadata": {
    "collapsed": true
   },
   "outputs": [],
   "source": [
    "def process_image(frame):\n",
    "\n",
    "    # Calibrate camera\n",
    "    cam_calibration = CameraCalibrator(p_file='./camera_cal/calibration_mat.p', img_dir=None)\n",
    "    mtx, dst, img_size = cam_calibration.get()\n",
    "\n",
    "    row = img_size[0]\n",
    "    col = img_size[1]\n",
    "    # Un-distort image\n",
    "    undst_img = adaptive_equalize_image(cv2.undistort(frame, mtx, dst), level=2)\n",
    "    # Threshold image\n",
    "    binary_img = mix_color_grad_thresh(undst_img, s_thresh=(180, 255), grad_thresh=(40, 90))\n",
    "\n",
    "    # Perspective Transform\n",
    "    projmgr = ProjectionManager(row, col, offset=300)\n",
    "    binary_img = region_of_interest(binary_img, projmgr.get_roi())\n",
    "    undst_birdeye = projmgr.get_birdeye_view(undst_img)\n",
    "    birdeye_img = projmgr.get_birdeye_view(binary_img)\n",
    "\n",
    "    # Lane Fitting and Tracking\n",
    "    curve_centers = LineTracker(window_height=80, window_width=25, margin=15, ym=10/720, xm=4/384, smooth_factor=15)\n",
    "\n",
    "    # Sliding window\n",
    "    window_centroids = curve_centers.find_lane_line(warped=birdeye_img)\n",
    "    result, leftx, rightx = draw_windows(birdeye_img, w=25, h=80, window_centroids=window_centroids)\n",
    "\n",
    "    # Curve-fit\n",
    "    lane_lines = curve_centers.curve_fit(result, leftx, rightx)\n",
    "\n",
    "    # Convert back to normal view\n",
    "    lane_lines = projmgr.get_normal_view(lane_lines)\n",
    "\n",
    "    # Merge to original image\n",
    "    lane_lines = cv2.addWeighted(undst_img, 1.0, lane_lines, 0.5, 0.0)\n",
    "    return lane_lines"
   ]
  },
  {
   "cell_type": "code",
   "execution_count": 4,
   "metadata": {
    "collapsed": false
   },
   "outputs": [
    {
     "name": "stdout",
     "output_type": "stream",
     "text": [
      "Camera Calibration data restored from ./camera_cal/calibration_mat.p\n",
      "[MoviePy] >>>> Building video output.mp4\n",
      "[MoviePy] Writing video output.mp4\n"
     ]
    },
    {
     "name": "stderr",
     "output_type": "stream",
     "text": [
      "\r",
      "  0%|          | 0/251 [00:00<?, ?it/s]"
     ]
    },
    {
     "name": "stdout",
     "output_type": "stream",
     "text": [
      "Camera Calibration data restored from ./camera_cal/calibration_mat.p\n"
     ]
    },
    {
     "name": "stderr",
     "output_type": "stream",
     "text": [
      "\r",
      "  0%|          | 1/251 [00:00<00:40,  6.22it/s]"
     ]
    },
    {
     "name": "stdout",
     "output_type": "stream",
     "text": [
      "Camera Calibration data restored from ./camera_cal/calibration_mat.p\n"
     ]
    },
    {
     "name": "stderr",
     "output_type": "stream",
     "text": [
      "\r",
      "  1%|          | 2/251 [00:00<00:40,  6.22it/s]"
     ]
    },
    {
     "name": "stdout",
     "output_type": "stream",
     "text": [
      "Camera Calibration data restored from ./camera_cal/calibration_mat.p\n"
     ]
    },
    {
     "name": "stderr",
     "output_type": "stream",
     "text": [
      "\r",
      "  1%|          | 3/251 [00:00<00:38,  6.37it/s]"
     ]
    },
    {
     "name": "stdout",
     "output_type": "stream",
     "text": [
      "Camera Calibration data restored from ./camera_cal/calibration_mat.p\n"
     ]
    },
    {
     "name": "stderr",
     "output_type": "stream",
     "text": [
      "\r",
      "  2%|▏         | 4/251 [00:00<00:38,  6.41it/s]"
     ]
    },
    {
     "name": "stdout",
     "output_type": "stream",
     "text": [
      "Camera Calibration data restored from ./camera_cal/calibration_mat.p\n"
     ]
    },
    {
     "name": "stderr",
     "output_type": "stream",
     "text": [
      "\r",
      "  2%|▏         | 5/251 [00:00<00:38,  6.36it/s]"
     ]
    },
    {
     "name": "stdout",
     "output_type": "stream",
     "text": [
      "Camera Calibration data restored from ./camera_cal/calibration_mat.p\n"
     ]
    },
    {
     "name": "stderr",
     "output_type": "stream",
     "text": [
      "\r",
      "  2%|▏         | 6/251 [00:00<00:38,  6.42it/s]"
     ]
    },
    {
     "name": "stdout",
     "output_type": "stream",
     "text": [
      "Camera Calibration data restored from ./camera_cal/calibration_mat.p\n"
     ]
    },
    {
     "name": "stderr",
     "output_type": "stream",
     "text": [
      "\r",
      "  3%|▎         | 7/251 [00:01<00:39,  6.21it/s]"
     ]
    },
    {
     "name": "stdout",
     "output_type": "stream",
     "text": [
      "Camera Calibration data restored from ./camera_cal/calibration_mat.p\n"
     ]
    },
    {
     "name": "stderr",
     "output_type": "stream",
     "text": [
      "\r",
      "  3%|▎         | 8/251 [00:01<00:39,  6.14it/s]"
     ]
    },
    {
     "name": "stdout",
     "output_type": "stream",
     "text": [
      "Camera Calibration data restored from ./camera_cal/calibration_mat.p\n"
     ]
    },
    {
     "name": "stderr",
     "output_type": "stream",
     "text": [
      "\r",
      "  4%|▎         | 9/251 [00:01<00:39,  6.20it/s]"
     ]
    },
    {
     "name": "stdout",
     "output_type": "stream",
     "text": [
      "Camera Calibration data restored from ./camera_cal/calibration_mat.p\n"
     ]
    },
    {
     "name": "stderr",
     "output_type": "stream",
     "text": [
      "\r",
      "  4%|▍         | 10/251 [00:01<00:38,  6.27it/s]"
     ]
    },
    {
     "name": "stdout",
     "output_type": "stream",
     "text": [
      "Camera Calibration data restored from ./camera_cal/calibration_mat.p\n"
     ]
    },
    {
     "name": "stderr",
     "output_type": "stream",
     "text": [
      "\r",
      "  4%|▍         | 11/251 [00:01<00:37,  6.32it/s]"
     ]
    },
    {
     "name": "stdout",
     "output_type": "stream",
     "text": [
      "Camera Calibration data restored from ./camera_cal/calibration_mat.p\n"
     ]
    },
    {
     "name": "stderr",
     "output_type": "stream",
     "text": [
      "\r",
      "  5%|▍         | 12/251 [00:01<00:37,  6.38it/s]"
     ]
    },
    {
     "name": "stdout",
     "output_type": "stream",
     "text": [
      "Camera Calibration data restored from ./camera_cal/calibration_mat.p\n"
     ]
    },
    {
     "name": "stderr",
     "output_type": "stream",
     "text": [
      "\r",
      "  5%|▌         | 13/251 [00:02<00:36,  6.48it/s]"
     ]
    },
    {
     "name": "stdout",
     "output_type": "stream",
     "text": [
      "Camera Calibration data restored from ./camera_cal/calibration_mat.p\n"
     ]
    },
    {
     "name": "stderr",
     "output_type": "stream",
     "text": [
      "\r",
      "  6%|▌         | 14/251 [00:02<00:36,  6.54it/s]"
     ]
    },
    {
     "name": "stdout",
     "output_type": "stream",
     "text": [
      "Camera Calibration data restored from ./camera_cal/calibration_mat.p\n"
     ]
    },
    {
     "name": "stderr",
     "output_type": "stream",
     "text": [
      "\r",
      "  6%|▌         | 15/251 [00:02<00:35,  6.56it/s]"
     ]
    },
    {
     "name": "stdout",
     "output_type": "stream",
     "text": [
      "Camera Calibration data restored from ./camera_cal/calibration_mat.p\n"
     ]
    },
    {
     "name": "stderr",
     "output_type": "stream",
     "text": [
      "\r",
      "  6%|▋         | 16/251 [00:02<00:35,  6.54it/s]"
     ]
    },
    {
     "name": "stdout",
     "output_type": "stream",
     "text": [
      "Camera Calibration data restored from ./camera_cal/calibration_mat.p\n"
     ]
    },
    {
     "name": "stderr",
     "output_type": "stream",
     "text": [
      "\r",
      "  7%|▋         | 17/251 [00:02<00:35,  6.55it/s]"
     ]
    },
    {
     "name": "stdout",
     "output_type": "stream",
     "text": [
      "Camera Calibration data restored from ./camera_cal/calibration_mat.p\n"
     ]
    },
    {
     "name": "stderr",
     "output_type": "stream",
     "text": [
      "\r",
      "  7%|▋         | 18/251 [00:02<00:35,  6.50it/s]"
     ]
    },
    {
     "name": "stdout",
     "output_type": "stream",
     "text": [
      "Camera Calibration data restored from ./camera_cal/calibration_mat.p\n"
     ]
    },
    {
     "name": "stderr",
     "output_type": "stream",
     "text": [
      "\r",
      "  8%|▊         | 19/251 [00:02<00:37,  6.22it/s]"
     ]
    },
    {
     "name": "stdout",
     "output_type": "stream",
     "text": [
      "Camera Calibration data restored from ./camera_cal/calibration_mat.p\n"
     ]
    },
    {
     "name": "stderr",
     "output_type": "stream",
     "text": [
      "\r",
      "  8%|▊         | 20/251 [00:03<00:37,  6.17it/s]"
     ]
    },
    {
     "name": "stdout",
     "output_type": "stream",
     "text": [
      "Camera Calibration data restored from ./camera_cal/calibration_mat.p\n"
     ]
    },
    {
     "name": "stderr",
     "output_type": "stream",
     "text": [
      "\r",
      "  8%|▊         | 21/251 [00:03<00:38,  6.05it/s]"
     ]
    },
    {
     "name": "stdout",
     "output_type": "stream",
     "text": [
      "Camera Calibration data restored from ./camera_cal/calibration_mat.p\n"
     ]
    },
    {
     "name": "stderr",
     "output_type": "stream",
     "text": [
      "\r",
      "  9%|▉         | 22/251 [00:03<00:37,  6.07it/s]"
     ]
    },
    {
     "name": "stdout",
     "output_type": "stream",
     "text": [
      "Camera Calibration data restored from ./camera_cal/calibration_mat.p\n"
     ]
    },
    {
     "name": "stderr",
     "output_type": "stream",
     "text": [
      "\r",
      "  9%|▉         | 23/251 [00:03<00:37,  6.08it/s]"
     ]
    },
    {
     "name": "stdout",
     "output_type": "stream",
     "text": [
      "Camera Calibration data restored from ./camera_cal/calibration_mat.p\n"
     ]
    },
    {
     "name": "stderr",
     "output_type": "stream",
     "text": [
      "\r",
      " 10%|▉         | 24/251 [00:03<00:36,  6.15it/s]"
     ]
    },
    {
     "name": "stdout",
     "output_type": "stream",
     "text": [
      "Camera Calibration data restored from ./camera_cal/calibration_mat.p\n"
     ]
    },
    {
     "name": "stderr",
     "output_type": "stream",
     "text": [
      "\r",
      " 10%|▉         | 25/251 [00:03<00:36,  6.15it/s]"
     ]
    },
    {
     "name": "stdout",
     "output_type": "stream",
     "text": [
      "Camera Calibration data restored from ./camera_cal/calibration_mat.p\n"
     ]
    },
    {
     "name": "stderr",
     "output_type": "stream",
     "text": [
      "\r",
      " 10%|█         | 26/251 [00:04<00:35,  6.30it/s]"
     ]
    },
    {
     "name": "stdout",
     "output_type": "stream",
     "text": [
      "Camera Calibration data restored from ./camera_cal/calibration_mat.p\n"
     ]
    },
    {
     "name": "stderr",
     "output_type": "stream",
     "text": [
      "\r",
      " 11%|█         | 27/251 [00:04<00:36,  6.21it/s]"
     ]
    },
    {
     "name": "stdout",
     "output_type": "stream",
     "text": [
      "Camera Calibration data restored from ./camera_cal/calibration_mat.p\n"
     ]
    },
    {
     "name": "stderr",
     "output_type": "stream",
     "text": [
      "\r",
      " 11%|█         | 28/251 [00:04<00:37,  6.01it/s]"
     ]
    },
    {
     "name": "stdout",
     "output_type": "stream",
     "text": [
      "Camera Calibration data restored from ./camera_cal/calibration_mat.p\n"
     ]
    },
    {
     "name": "stderr",
     "output_type": "stream",
     "text": [
      "\r",
      " 12%|█▏        | 29/251 [00:04<00:37,  5.94it/s]"
     ]
    },
    {
     "name": "stdout",
     "output_type": "stream",
     "text": [
      "Camera Calibration data restored from ./camera_cal/calibration_mat.p\n"
     ]
    },
    {
     "name": "stderr",
     "output_type": "stream",
     "text": [
      "\r",
      " 12%|█▏        | 30/251 [00:04<00:37,  5.90it/s]"
     ]
    },
    {
     "name": "stdout",
     "output_type": "stream",
     "text": [
      "Camera Calibration data restored from ./camera_cal/calibration_mat.p\n"
     ]
    },
    {
     "name": "stderr",
     "output_type": "stream",
     "text": [
      "\r",
      " 12%|█▏        | 31/251 [00:04<00:36,  5.95it/s]"
     ]
    },
    {
     "name": "stdout",
     "output_type": "stream",
     "text": [
      "Camera Calibration data restored from ./camera_cal/calibration_mat.p\n"
     ]
    },
    {
     "name": "stderr",
     "output_type": "stream",
     "text": [
      "\r",
      " 13%|█▎        | 32/251 [00:05<00:36,  6.01it/s]"
     ]
    },
    {
     "name": "stdout",
     "output_type": "stream",
     "text": [
      "Camera Calibration data restored from ./camera_cal/calibration_mat.p\n"
     ]
    },
    {
     "name": "stderr",
     "output_type": "stream",
     "text": [
      "\r",
      " 13%|█▎        | 33/251 [00:05<00:35,  6.17it/s]"
     ]
    },
    {
     "name": "stdout",
     "output_type": "stream",
     "text": [
      "Camera Calibration data restored from ./camera_cal/calibration_mat.p\n"
     ]
    },
    {
     "name": "stderr",
     "output_type": "stream",
     "text": [
      "\r",
      " 14%|█▎        | 34/251 [00:05<00:35,  6.16it/s]"
     ]
    },
    {
     "name": "stdout",
     "output_type": "stream",
     "text": [
      "Camera Calibration data restored from ./camera_cal/calibration_mat.p\n"
     ]
    },
    {
     "name": "stderr",
     "output_type": "stream",
     "text": [
      "\r",
      " 14%|█▍        | 35/251 [00:05<00:35,  6.03it/s]"
     ]
    },
    {
     "name": "stdout",
     "output_type": "stream",
     "text": [
      "Camera Calibration data restored from ./camera_cal/calibration_mat.p\n"
     ]
    },
    {
     "name": "stderr",
     "output_type": "stream",
     "text": [
      "\r",
      " 14%|█▍        | 36/251 [00:05<00:35,  5.99it/s]"
     ]
    },
    {
     "name": "stdout",
     "output_type": "stream",
     "text": [
      "Camera Calibration data restored from ./camera_cal/calibration_mat.p\n"
     ]
    },
    {
     "name": "stderr",
     "output_type": "stream",
     "text": [
      "\r",
      " 15%|█▍        | 37/251 [00:05<00:35,  5.97it/s]"
     ]
    },
    {
     "name": "stdout",
     "output_type": "stream",
     "text": [
      "Camera Calibration data restored from ./camera_cal/calibration_mat.p\n"
     ]
    },
    {
     "name": "stderr",
     "output_type": "stream",
     "text": [
      "\r",
      " 15%|█▌        | 38/251 [00:06<00:37,  5.67it/s]"
     ]
    },
    {
     "name": "stdout",
     "output_type": "stream",
     "text": [
      "Camera Calibration data restored from ./camera_cal/calibration_mat.p"
     ]
    },
    {
     "name": "stderr",
     "output_type": "stream",
     "text": [
      "\r",
      " 16%|█▌        | 39/251 [00:06<00:37,  5.66it/s]"
     ]
    },
    {
     "name": "stdout",
     "output_type": "stream",
     "text": [
      "\n",
      "Camera Calibration data restored from ./camera_cal/calibration_mat.p\n"
     ]
    },
    {
     "name": "stderr",
     "output_type": "stream",
     "text": [
      " 16%|█▋        | 41/251 [00:06<00:36,  5.80it/s]"
     ]
    },
    {
     "name": "stdout",
     "output_type": "stream",
     "text": [
      "Camera Calibration data restored from ./camera_cal/calibration_mat.p\n",
      "Camera Calibration data restored from ./camera_cal/calibration_mat.p\n"
     ]
    },
    {
     "name": "stderr",
     "output_type": "stream",
     "text": [
      " 17%|█▋        | 43/251 [00:07<00:36,  5.64it/s]"
     ]
    },
    {
     "name": "stdout",
     "output_type": "stream",
     "text": [
      "Camera Calibration data restored from ./camera_cal/calibration_mat.p\n",
      "Camera Calibration data restored from ./camera_cal/calibration_mat.p\n"
     ]
    },
    {
     "name": "stderr",
     "output_type": "stream",
     "text": [
      " 18%|█▊        | 45/251 [00:07<00:36,  5.62it/s]"
     ]
    },
    {
     "name": "stdout",
     "output_type": "stream",
     "text": [
      "Camera Calibration data restored from ./camera_cal/calibration_mat.p\n",
      "Camera Calibration data restored from ./camera_cal/calibration_mat.p\n"
     ]
    },
    {
     "name": "stderr",
     "output_type": "stream",
     "text": [
      " 19%|█▊        | 47/251 [00:07<00:35,  5.75it/s]"
     ]
    },
    {
     "name": "stdout",
     "output_type": "stream",
     "text": [
      "Camera Calibration data restored from ./camera_cal/calibration_mat.p\n",
      "Camera Calibration data restored from ./camera_cal/calibration_mat.p\n"
     ]
    },
    {
     "name": "stderr",
     "output_type": "stream",
     "text": [
      " 20%|█▉        | 49/251 [00:08<00:34,  5.81it/s]"
     ]
    },
    {
     "name": "stdout",
     "output_type": "stream",
     "text": [
      "Camera Calibration data restored from ./camera_cal/calibration_mat.p\n",
      "Camera Calibration data restored from ./camera_cal/calibration_mat.p\n"
     ]
    },
    {
     "name": "stderr",
     "output_type": "stream",
     "text": [
      " 20%|██        | 51/251 [00:08<00:34,  5.74it/s]"
     ]
    },
    {
     "name": "stdout",
     "output_type": "stream",
     "text": [
      "Camera Calibration data restored from ./camera_cal/calibration_mat.p\n",
      "Camera Calibration data restored from ./camera_cal/calibration_mat.p\n"
     ]
    },
    {
     "name": "stderr",
     "output_type": "stream",
     "text": [
      " 21%|██        | 53/251 [00:08<00:34,  5.71it/s]"
     ]
    },
    {
     "name": "stdout",
     "output_type": "stream",
     "text": [
      "Camera Calibration data restored from ./camera_cal/calibration_mat.p\n",
      "Camera Calibration data restored from ./camera_cal/calibration_mat.p\n"
     ]
    },
    {
     "name": "stderr",
     "output_type": "stream",
     "text": [
      " 22%|██▏       | 55/251 [00:09<00:33,  5.80it/s]"
     ]
    },
    {
     "name": "stdout",
     "output_type": "stream",
     "text": [
      "Camera Calibration data restored from ./camera_cal/calibration_mat.p\n",
      "Camera Calibration data restored from ./camera_cal/calibration_mat.p\n"
     ]
    },
    {
     "name": "stderr",
     "output_type": "stream",
     "text": [
      " 23%|██▎       | 57/251 [00:09<00:33,  5.83it/s]"
     ]
    },
    {
     "name": "stdout",
     "output_type": "stream",
     "text": [
      "Camera Calibration data restored from ./camera_cal/calibration_mat.p\n",
      "Camera Calibration data restored from ./camera_cal/calibration_mat.p\n"
     ]
    },
    {
     "name": "stderr",
     "output_type": "stream",
     "text": [
      " 24%|██▎       | 59/251 [00:09<00:34,  5.64it/s]"
     ]
    },
    {
     "name": "stdout",
     "output_type": "stream",
     "text": [
      "Camera Calibration data restored from ./camera_cal/calibration_mat.p\n",
      "Camera Calibration data restored from ./camera_cal/calibration_mat.p\n"
     ]
    },
    {
     "name": "stderr",
     "output_type": "stream",
     "text": [
      " 24%|██▍       | 61/251 [00:10<00:33,  5.68it/s]"
     ]
    },
    {
     "name": "stdout",
     "output_type": "stream",
     "text": [
      "Camera Calibration data restored from ./camera_cal/calibration_mat.p\n",
      "Camera Calibration data restored from ./camera_cal/calibration_mat.p\n"
     ]
    },
    {
     "name": "stderr",
     "output_type": "stream",
     "text": [
      " 25%|██▌       | 63/251 [00:10<00:32,  5.74it/s]"
     ]
    },
    {
     "name": "stdout",
     "output_type": "stream",
     "text": [
      "Camera Calibration data restored from ./camera_cal/calibration_mat.p\n",
      "Camera Calibration data restored from ./camera_cal/calibration_mat.p\n"
     ]
    },
    {
     "name": "stderr",
     "output_type": "stream",
     "text": [
      " 26%|██▌       | 65/251 [00:10<00:32,  5.72it/s]"
     ]
    },
    {
     "name": "stdout",
     "output_type": "stream",
     "text": [
      "Camera Calibration data restored from ./camera_cal/calibration_mat.p\n",
      "Camera Calibration data restored from ./camera_cal/calibration_mat.p\n"
     ]
    },
    {
     "name": "stderr",
     "output_type": "stream",
     "text": [
      " 27%|██▋       | 67/251 [00:11<00:32,  5.74it/s]"
     ]
    },
    {
     "name": "stdout",
     "output_type": "stream",
     "text": [
      "Camera Calibration data restored from ./camera_cal/calibration_mat.p\n",
      "Camera Calibration data restored from ./camera_cal/calibration_mat.p\n"
     ]
    },
    {
     "name": "stderr",
     "output_type": "stream",
     "text": [
      " 27%|██▋       | 69/251 [00:11<00:31,  5.76it/s]"
     ]
    },
    {
     "name": "stdout",
     "output_type": "stream",
     "text": [
      "Camera Calibration data restored from ./camera_cal/calibration_mat.p\n",
      "Camera Calibration data restored from ./camera_cal/calibration_mat.p\n"
     ]
    },
    {
     "name": "stderr",
     "output_type": "stream",
     "text": [
      " 28%|██▊       | 71/251 [00:11<00:30,  5.82it/s]"
     ]
    },
    {
     "name": "stdout",
     "output_type": "stream",
     "text": [
      "Camera Calibration data restored from ./camera_cal/calibration_mat.p\n",
      "Camera Calibration data restored from ./camera_cal/calibration_mat.p\n"
     ]
    },
    {
     "name": "stderr",
     "output_type": "stream",
     "text": [
      " 29%|██▉       | 73/251 [00:12<00:30,  5.88it/s]"
     ]
    },
    {
     "name": "stdout",
     "output_type": "stream",
     "text": [
      "Camera Calibration data restored from ./camera_cal/calibration_mat.p\n",
      "Camera Calibration data restored from ./camera_cal/calibration_mat.p\n"
     ]
    },
    {
     "name": "stderr",
     "output_type": "stream",
     "text": [
      " 30%|██▉       | 75/251 [00:12<00:29,  5.95it/s]"
     ]
    },
    {
     "name": "stdout",
     "output_type": "stream",
     "text": [
      "Camera Calibration data restored from ./camera_cal/calibration_mat.p\n",
      "Camera Calibration data restored from ./camera_cal/calibration_mat.p\n"
     ]
    },
    {
     "name": "stderr",
     "output_type": "stream",
     "text": [
      " 31%|███       | 77/251 [00:12<00:30,  5.76it/s]"
     ]
    },
    {
     "name": "stdout",
     "output_type": "stream",
     "text": [
      "Camera Calibration data restored from ./camera_cal/calibration_mat.p\n",
      "Camera Calibration data restored from ./camera_cal/calibration_mat.p\n"
     ]
    },
    {
     "name": "stderr",
     "output_type": "stream",
     "text": [
      " 31%|███▏      | 79/251 [00:13<00:28,  5.97it/s]"
     ]
    },
    {
     "name": "stdout",
     "output_type": "stream",
     "text": [
      "Camera Calibration data restored from ./camera_cal/calibration_mat.p\n",
      "Camera Calibration data restored from ./camera_cal/calibration_mat.p\n"
     ]
    },
    {
     "name": "stderr",
     "output_type": "stream",
     "text": [
      " 32%|███▏      | 81/251 [00:13<00:27,  6.17it/s]"
     ]
    },
    {
     "name": "stdout",
     "output_type": "stream",
     "text": [
      "Camera Calibration data restored from ./camera_cal/calibration_mat.p\n",
      "Camera Calibration data restored from ./camera_cal/calibration_mat.p\n"
     ]
    },
    {
     "name": "stderr",
     "output_type": "stream",
     "text": [
      " 33%|███▎      | 83/251 [00:13<00:27,  6.22it/s]"
     ]
    },
    {
     "name": "stdout",
     "output_type": "stream",
     "text": [
      "Camera Calibration data restored from ./camera_cal/calibration_mat.p\n",
      "Camera Calibration data restored from ./camera_cal/calibration_mat.p\n"
     ]
    },
    {
     "name": "stderr",
     "output_type": "stream",
     "text": [
      " 34%|███▍      | 85/251 [00:14<00:26,  6.27it/s]"
     ]
    },
    {
     "name": "stdout",
     "output_type": "stream",
     "text": [
      "Camera Calibration data restored from ./camera_cal/calibration_mat.p\n",
      "Camera Calibration data restored from ./camera_cal/calibration_mat.p\n"
     ]
    },
    {
     "name": "stderr",
     "output_type": "stream",
     "text": [
      " 35%|███▍      | 87/251 [00:14<00:26,  6.18it/s]"
     ]
    },
    {
     "name": "stdout",
     "output_type": "stream",
     "text": [
      "Camera Calibration data restored from ./camera_cal/calibration_mat.p\n",
      "Camera Calibration data restored from ./camera_cal/calibration_mat.p\n"
     ]
    },
    {
     "name": "stderr",
     "output_type": "stream",
     "text": [
      " 35%|███▌      | 89/251 [00:14<00:26,  6.02it/s]"
     ]
    },
    {
     "name": "stdout",
     "output_type": "stream",
     "text": [
      "Camera Calibration data restored from ./camera_cal/calibration_mat.p\n",
      "Camera Calibration data restored from ./camera_cal/calibration_mat.p\n"
     ]
    },
    {
     "name": "stderr",
     "output_type": "stream",
     "text": [
      " 36%|███▋      | 91/251 [00:15<00:26,  5.95it/s]"
     ]
    },
    {
     "name": "stdout",
     "output_type": "stream",
     "text": [
      "Camera Calibration data restored from ./camera_cal/calibration_mat.p\n",
      "Camera Calibration data restored from ./camera_cal/calibration_mat.p\n"
     ]
    },
    {
     "name": "stderr",
     "output_type": "stream",
     "text": [
      " 37%|███▋      | 93/251 [00:15<00:26,  5.93it/s]"
     ]
    },
    {
     "name": "stdout",
     "output_type": "stream",
     "text": [
      "Camera Calibration data restored from ./camera_cal/calibration_mat.p\n",
      "Camera Calibration data restored from ./camera_cal/calibration_mat.p\n"
     ]
    },
    {
     "name": "stderr",
     "output_type": "stream",
     "text": [
      " 38%|███▊      | 95/251 [00:15<00:26,  5.96it/s]"
     ]
    },
    {
     "name": "stdout",
     "output_type": "stream",
     "text": [
      "Camera Calibration data restored from ./camera_cal/calibration_mat.p\n",
      "Camera Calibration data restored from ./camera_cal/calibration_mat.p\n"
     ]
    },
    {
     "name": "stderr",
     "output_type": "stream",
     "text": [
      " 39%|███▊      | 97/251 [00:16<00:25,  6.11it/s]"
     ]
    },
    {
     "name": "stdout",
     "output_type": "stream",
     "text": [
      "Camera Calibration data restored from ./camera_cal/calibration_mat.p\n",
      "Camera Calibration data restored from ./camera_cal/calibration_mat.p\n"
     ]
    },
    {
     "name": "stderr",
     "output_type": "stream",
     "text": [
      " 39%|███▉      | 99/251 [00:16<00:25,  5.97it/s]"
     ]
    },
    {
     "name": "stdout",
     "output_type": "stream",
     "text": [
      "Camera Calibration data restored from ./camera_cal/calibration_mat.p\n",
      "Camera Calibration data restored from ./camera_cal/calibration_mat.p\n"
     ]
    },
    {
     "name": "stderr",
     "output_type": "stream",
     "text": [
      " 40%|████      | 101/251 [00:16<00:25,  5.93it/s]"
     ]
    },
    {
     "name": "stdout",
     "output_type": "stream",
     "text": [
      "Camera Calibration data restored from ./camera_cal/calibration_mat.p\n",
      "Camera Calibration data restored from ./camera_cal/calibration_mat.p\n"
     ]
    },
    {
     "name": "stderr",
     "output_type": "stream",
     "text": [
      " 41%|████      | 103/251 [00:17<00:24,  6.02it/s]"
     ]
    },
    {
     "name": "stdout",
     "output_type": "stream",
     "text": [
      "Camera Calibration data restored from ./camera_cal/calibration_mat.p\n",
      "Camera Calibration data restored from ./camera_cal/calibration_mat.p\n"
     ]
    },
    {
     "name": "stderr",
     "output_type": "stream",
     "text": [
      " 42%|████▏     | 105/251 [00:17<00:24,  5.99it/s]"
     ]
    },
    {
     "name": "stdout",
     "output_type": "stream",
     "text": [
      "Camera Calibration data restored from ./camera_cal/calibration_mat.p\n",
      "Camera Calibration data restored from ./camera_cal/calibration_mat.p\n"
     ]
    },
    {
     "name": "stderr",
     "output_type": "stream",
     "text": [
      " 43%|████▎     | 107/251 [00:17<00:24,  5.99it/s]"
     ]
    },
    {
     "name": "stdout",
     "output_type": "stream",
     "text": [
      "Camera Calibration data restored from ./camera_cal/calibration_mat.p\n",
      "Camera Calibration data restored from ./camera_cal/calibration_mat.p\n"
     ]
    },
    {
     "name": "stderr",
     "output_type": "stream",
     "text": [
      " 43%|████▎     | 109/251 [00:18<00:23,  5.98it/s]"
     ]
    },
    {
     "name": "stdout",
     "output_type": "stream",
     "text": [
      "Camera Calibration data restored from ./camera_cal/calibration_mat.p\n",
      "Camera Calibration data restored from ./camera_cal/calibration_mat.p\n"
     ]
    },
    {
     "name": "stderr",
     "output_type": "stream",
     "text": [
      " 44%|████▍     | 111/251 [00:18<00:23,  6.01it/s]"
     ]
    },
    {
     "name": "stdout",
     "output_type": "stream",
     "text": [
      "Camera Calibration data restored from ./camera_cal/calibration_mat.p\n",
      "Camera Calibration data restored from ./camera_cal/calibration_mat.p\n"
     ]
    },
    {
     "name": "stderr",
     "output_type": "stream",
     "text": [
      " 45%|████▌     | 113/251 [00:18<00:23,  5.95it/s]"
     ]
    },
    {
     "name": "stdout",
     "output_type": "stream",
     "text": [
      "Camera Calibration data restored from ./camera_cal/calibration_mat.p\n",
      "Camera Calibration data restored from ./camera_cal/calibration_mat.p\n"
     ]
    },
    {
     "name": "stderr",
     "output_type": "stream",
     "text": [
      " 46%|████▌     | 115/251 [00:19<00:22,  6.02it/s]"
     ]
    },
    {
     "name": "stdout",
     "output_type": "stream",
     "text": [
      "Camera Calibration data restored from ./camera_cal/calibration_mat.p\n",
      "Camera Calibration data restored from ./camera_cal/calibration_mat.p\n"
     ]
    },
    {
     "name": "stderr",
     "output_type": "stream",
     "text": [
      " 47%|████▋     | 117/251 [00:19<00:22,  5.99it/s]"
     ]
    },
    {
     "name": "stdout",
     "output_type": "stream",
     "text": [
      "Camera Calibration data restored from ./camera_cal/calibration_mat.p\n",
      "Camera Calibration data restored from ./camera_cal/calibration_mat.p\n"
     ]
    },
    {
     "name": "stderr",
     "output_type": "stream",
     "text": [
      " 47%|████▋     | 119/251 [00:19<00:22,  5.97it/s]"
     ]
    },
    {
     "name": "stdout",
     "output_type": "stream",
     "text": [
      "Camera Calibration data restored from ./camera_cal/calibration_mat.p\n",
      "Camera Calibration data restored from ./camera_cal/calibration_mat.p\n"
     ]
    },
    {
     "name": "stderr",
     "output_type": "stream",
     "text": [
      " 48%|████▊     | 121/251 [00:20<00:21,  6.04it/s]"
     ]
    },
    {
     "name": "stdout",
     "output_type": "stream",
     "text": [
      "Camera Calibration data restored from ./camera_cal/calibration_mat.p\n",
      "Camera Calibration data restored from ./camera_cal/calibration_mat.p\n"
     ]
    },
    {
     "name": "stderr",
     "output_type": "stream",
     "text": [
      " 49%|████▉     | 123/251 [00:20<00:20,  6.13it/s]"
     ]
    },
    {
     "name": "stdout",
     "output_type": "stream",
     "text": [
      "Camera Calibration data restored from ./camera_cal/calibration_mat.p\n",
      "Camera Calibration data restored from ./camera_cal/calibration_mat.p\n"
     ]
    },
    {
     "name": "stderr",
     "output_type": "stream",
     "text": [
      " 50%|████▉     | 125/251 [00:20<00:20,  6.08it/s]"
     ]
    },
    {
     "name": "stdout",
     "output_type": "stream",
     "text": [
      "Camera Calibration data restored from ./camera_cal/calibration_mat.p\n",
      "Camera Calibration data restored from ./camera_cal/calibration_mat.p\n"
     ]
    },
    {
     "name": "stderr",
     "output_type": "stream",
     "text": [
      " 51%|█████     | 127/251 [00:21<00:20,  5.92it/s]"
     ]
    },
    {
     "name": "stdout",
     "output_type": "stream",
     "text": [
      "Camera Calibration data restored from ./camera_cal/calibration_mat.p\n",
      "Camera Calibration data restored from ./camera_cal/calibration_mat.p\n"
     ]
    },
    {
     "name": "stderr",
     "output_type": "stream",
     "text": [
      " 51%|█████▏    | 129/251 [00:21<00:19,  6.15it/s]"
     ]
    },
    {
     "name": "stdout",
     "output_type": "stream",
     "text": [
      "Camera Calibration data restored from ./camera_cal/calibration_mat.p\n",
      "Camera Calibration data restored from ./camera_cal/calibration_mat.p\n"
     ]
    },
    {
     "name": "stderr",
     "output_type": "stream",
     "text": [
      " 52%|█████▏    | 131/251 [00:21<00:19,  6.02it/s]"
     ]
    },
    {
     "name": "stdout",
     "output_type": "stream",
     "text": [
      "Camera Calibration data restored from ./camera_cal/calibration_mat.p\n",
      "Camera Calibration data restored from ./camera_cal/calibration_mat.p\n"
     ]
    },
    {
     "name": "stderr",
     "output_type": "stream",
     "text": [
      " 53%|█████▎    | 133/251 [00:22<00:19,  6.06it/s]"
     ]
    },
    {
     "name": "stdout",
     "output_type": "stream",
     "text": [
      "Camera Calibration data restored from ./camera_cal/calibration_mat.p\n",
      "Camera Calibration data restored from ./camera_cal/calibration_mat.p\n"
     ]
    },
    {
     "name": "stderr",
     "output_type": "stream",
     "text": [
      " 54%|█████▍    | 135/251 [00:22<00:19,  5.99it/s]"
     ]
    },
    {
     "name": "stdout",
     "output_type": "stream",
     "text": [
      "Camera Calibration data restored from ./camera_cal/calibration_mat.p\n",
      "Camera Calibration data restored from ./camera_cal/calibration_mat.p\n"
     ]
    },
    {
     "name": "stderr",
     "output_type": "stream",
     "text": [
      " 55%|█████▍    | 137/251 [00:22<00:19,  5.88it/s]"
     ]
    },
    {
     "name": "stdout",
     "output_type": "stream",
     "text": [
      "Camera Calibration data restored from ./camera_cal/calibration_mat.p\n",
      "Camera Calibration data restored from ./camera_cal/calibration_mat.p\n"
     ]
    },
    {
     "name": "stderr",
     "output_type": "stream",
     "text": [
      " 55%|█████▌    | 139/251 [00:23<00:19,  5.82it/s]"
     ]
    },
    {
     "name": "stdout",
     "output_type": "stream",
     "text": [
      "Camera Calibration data restored from ./camera_cal/calibration_mat.p\n",
      "Camera Calibration data restored from ./camera_cal/calibration_mat.p\n"
     ]
    },
    {
     "name": "stderr",
     "output_type": "stream",
     "text": [
      " 56%|█████▌    | 141/251 [00:23<00:18,  5.83it/s]"
     ]
    },
    {
     "name": "stdout",
     "output_type": "stream",
     "text": [
      "Camera Calibration data restored from ./camera_cal/calibration_mat.p\n",
      "Camera Calibration data restored from ./camera_cal/calibration_mat.p\n"
     ]
    },
    {
     "name": "stderr",
     "output_type": "stream",
     "text": [
      " 57%|█████▋    | 143/251 [00:23<00:17,  6.03it/s]"
     ]
    },
    {
     "name": "stdout",
     "output_type": "stream",
     "text": [
      "Camera Calibration data restored from ./camera_cal/calibration_mat.p\n",
      "Camera Calibration data restored from ./camera_cal/calibration_mat.p\n"
     ]
    },
    {
     "name": "stderr",
     "output_type": "stream",
     "text": [
      " 58%|█████▊    | 145/251 [00:24<00:17,  5.97it/s]"
     ]
    },
    {
     "name": "stdout",
     "output_type": "stream",
     "text": [
      "Camera Calibration data restored from ./camera_cal/calibration_mat.p\n",
      "Camera Calibration data restored from ./camera_cal/calibration_mat.p\n"
     ]
    },
    {
     "name": "stderr",
     "output_type": "stream",
     "text": [
      " 59%|█████▊    | 147/251 [00:24<00:17,  6.01it/s]"
     ]
    },
    {
     "name": "stdout",
     "output_type": "stream",
     "text": [
      "Camera Calibration data restored from ./camera_cal/calibration_mat.p\n",
      "Camera Calibration data restored from ./camera_cal/calibration_mat.p\n"
     ]
    },
    {
     "name": "stderr",
     "output_type": "stream",
     "text": [
      " 59%|█████▉    | 149/251 [00:24<00:17,  5.92it/s]"
     ]
    },
    {
     "name": "stdout",
     "output_type": "stream",
     "text": [
      "Camera Calibration data restored from ./camera_cal/calibration_mat.p\n",
      "Camera Calibration data restored from ./camera_cal/calibration_mat.p\n"
     ]
    },
    {
     "name": "stderr",
     "output_type": "stream",
     "text": [
      " 60%|██████    | 151/251 [00:25<00:16,  5.94it/s]"
     ]
    },
    {
     "name": "stdout",
     "output_type": "stream",
     "text": [
      "Camera Calibration data restored from ./camera_cal/calibration_mat.p\n",
      "Camera Calibration data restored from ./camera_cal/calibration_mat.p\n"
     ]
    },
    {
     "name": "stderr",
     "output_type": "stream",
     "text": [
      " 61%|██████    | 153/251 [00:25<00:16,  6.02it/s]"
     ]
    },
    {
     "name": "stdout",
     "output_type": "stream",
     "text": [
      "Camera Calibration data restored from ./camera_cal/calibration_mat.p\n",
      "Camera Calibration data restored from ./camera_cal/calibration_mat.p\n"
     ]
    },
    {
     "name": "stderr",
     "output_type": "stream",
     "text": [
      " 62%|██████▏   | 155/251 [00:25<00:16,  5.93it/s]"
     ]
    },
    {
     "name": "stdout",
     "output_type": "stream",
     "text": [
      "Camera Calibration data restored from ./camera_cal/calibration_mat.p\n",
      "Camera Calibration data restored from ./camera_cal/calibration_mat.p\n"
     ]
    },
    {
     "name": "stderr",
     "output_type": "stream",
     "text": [
      " 63%|██████▎   | 157/251 [00:26<00:15,  5.98it/s]"
     ]
    },
    {
     "name": "stdout",
     "output_type": "stream",
     "text": [
      "Camera Calibration data restored from ./camera_cal/calibration_mat.p\n",
      "Camera Calibration data restored from ./camera_cal/calibration_mat.p\n"
     ]
    },
    {
     "name": "stderr",
     "output_type": "stream",
     "text": [
      " 63%|██████▎   | 159/251 [00:26<00:15,  5.98it/s]"
     ]
    },
    {
     "name": "stdout",
     "output_type": "stream",
     "text": [
      "Camera Calibration data restored from ./camera_cal/calibration_mat.p\n",
      "Camera Calibration data restored from ./camera_cal/calibration_mat.p\n"
     ]
    },
    {
     "name": "stderr",
     "output_type": "stream",
     "text": [
      " 64%|██████▍   | 161/251 [00:26<00:15,  5.90it/s]"
     ]
    },
    {
     "name": "stdout",
     "output_type": "stream",
     "text": [
      "Camera Calibration data restored from ./camera_cal/calibration_mat.p\n",
      "Camera Calibration data restored from ./camera_cal/calibration_mat.p\n"
     ]
    },
    {
     "name": "stderr",
     "output_type": "stream",
     "text": [
      " 65%|██████▍   | 163/251 [00:27<00:15,  5.86it/s]"
     ]
    },
    {
     "name": "stdout",
     "output_type": "stream",
     "text": [
      "Camera Calibration data restored from ./camera_cal/calibration_mat.p\n",
      "Camera Calibration data restored from ./camera_cal/calibration_mat.p\n"
     ]
    },
    {
     "name": "stderr",
     "output_type": "stream",
     "text": [
      " 66%|██████▌   | 165/251 [00:27<00:14,  6.05it/s]"
     ]
    },
    {
     "name": "stdout",
     "output_type": "stream",
     "text": [
      "Camera Calibration data restored from ./camera_cal/calibration_mat.p\n",
      "Camera Calibration data restored from ./camera_cal/calibration_mat.p\n"
     ]
    },
    {
     "name": "stderr",
     "output_type": "stream",
     "text": [
      " 67%|██████▋   | 167/251 [00:27<00:14,  5.89it/s]"
     ]
    },
    {
     "name": "stdout",
     "output_type": "stream",
     "text": [
      "Camera Calibration data restored from ./camera_cal/calibration_mat.p\n",
      "Camera Calibration data restored from ./camera_cal/calibration_mat.p\n"
     ]
    },
    {
     "name": "stderr",
     "output_type": "stream",
     "text": [
      " 67%|██████▋   | 169/251 [00:28<00:13,  5.92it/s]"
     ]
    },
    {
     "name": "stdout",
     "output_type": "stream",
     "text": [
      "Camera Calibration data restored from ./camera_cal/calibration_mat.p\n",
      "Camera Calibration data restored from ./camera_cal/calibration_mat.p\n"
     ]
    },
    {
     "name": "stderr",
     "output_type": "stream",
     "text": [
      " 68%|██████▊   | 171/251 [00:28<00:13,  5.86it/s]"
     ]
    },
    {
     "name": "stdout",
     "output_type": "stream",
     "text": [
      "Camera Calibration data restored from ./camera_cal/calibration_mat.p\n",
      "Camera Calibration data restored from ./camera_cal/calibration_mat.p\n"
     ]
    },
    {
     "name": "stderr",
     "output_type": "stream",
     "text": [
      " 69%|██████▉   | 173/251 [00:28<00:13,  5.83it/s]"
     ]
    },
    {
     "name": "stdout",
     "output_type": "stream",
     "text": [
      "Camera Calibration data restored from ./camera_cal/calibration_mat.p\n",
      "Camera Calibration data restored from ./camera_cal/calibration_mat.p\n"
     ]
    },
    {
     "name": "stderr",
     "output_type": "stream",
     "text": [
      " 70%|██████▉   | 175/251 [00:29<00:12,  5.87it/s]"
     ]
    },
    {
     "name": "stdout",
     "output_type": "stream",
     "text": [
      "Camera Calibration data restored from ./camera_cal/calibration_mat.p\n",
      "Camera Calibration data restored from ./camera_cal/calibration_mat.p\n"
     ]
    },
    {
     "name": "stderr",
     "output_type": "stream",
     "text": [
      " 71%|███████   | 177/251 [00:29<00:12,  5.88it/s]"
     ]
    },
    {
     "name": "stdout",
     "output_type": "stream",
     "text": [
      "Camera Calibration data restored from ./camera_cal/calibration_mat.p\n",
      "Camera Calibration data restored from ./camera_cal/calibration_mat.p\n"
     ]
    },
    {
     "name": "stderr",
     "output_type": "stream",
     "text": [
      " 71%|███████▏  | 179/251 [00:30<00:12,  5.79it/s]"
     ]
    },
    {
     "name": "stdout",
     "output_type": "stream",
     "text": [
      "Camera Calibration data restored from ./camera_cal/calibration_mat.p\n",
      "Camera Calibration data restored from ./camera_cal/calibration_mat.p\n"
     ]
    },
    {
     "name": "stderr",
     "output_type": "stream",
     "text": [
      " 72%|███████▏  | 181/251 [00:30<00:11,  5.84it/s]"
     ]
    },
    {
     "name": "stdout",
     "output_type": "stream",
     "text": [
      "Camera Calibration data restored from ./camera_cal/calibration_mat.p\n",
      "Camera Calibration data restored from ./camera_cal/calibration_mat.p\n"
     ]
    },
    {
     "name": "stderr",
     "output_type": "stream",
     "text": [
      " 73%|███████▎  | 183/251 [00:30<00:11,  5.83it/s]"
     ]
    },
    {
     "name": "stdout",
     "output_type": "stream",
     "text": [
      "Camera Calibration data restored from ./camera_cal/calibration_mat.p\n",
      "Camera Calibration data restored from ./camera_cal/calibration_mat.p\n"
     ]
    },
    {
     "name": "stderr",
     "output_type": "stream",
     "text": [
      " 74%|███████▎  | 185/251 [00:31<00:11,  5.86it/s]"
     ]
    },
    {
     "name": "stdout",
     "output_type": "stream",
     "text": [
      "Camera Calibration data restored from ./camera_cal/calibration_mat.p\n",
      "Camera Calibration data restored from ./camera_cal/calibration_mat.p\n"
     ]
    },
    {
     "name": "stderr",
     "output_type": "stream",
     "text": [
      " 75%|███████▍  | 187/251 [00:31<00:10,  5.90it/s]"
     ]
    },
    {
     "name": "stdout",
     "output_type": "stream",
     "text": [
      "Camera Calibration data restored from ./camera_cal/calibration_mat.p\n",
      "Camera Calibration data restored from ./camera_cal/calibration_mat.p\n"
     ]
    },
    {
     "name": "stderr",
     "output_type": "stream",
     "text": [
      " 75%|███████▌  | 189/251 [00:31<00:10,  5.85it/s]"
     ]
    },
    {
     "name": "stdout",
     "output_type": "stream",
     "text": [
      "Camera Calibration data restored from ./camera_cal/calibration_mat.p\n",
      "Camera Calibration data restored from ./camera_cal/calibration_mat.p\n"
     ]
    },
    {
     "name": "stderr",
     "output_type": "stream",
     "text": [
      " 76%|███████▌  | 191/251 [00:32<00:10,  5.77it/s]"
     ]
    },
    {
     "name": "stdout",
     "output_type": "stream",
     "text": [
      "Camera Calibration data restored from ./camera_cal/calibration_mat.p\n",
      "Camera Calibration data restored from ./camera_cal/calibration_mat.p\n"
     ]
    },
    {
     "name": "stderr",
     "output_type": "stream",
     "text": [
      " 77%|███████▋  | 193/251 [00:32<00:09,  5.96it/s]"
     ]
    },
    {
     "name": "stdout",
     "output_type": "stream",
     "text": [
      "Camera Calibration data restored from ./camera_cal/calibration_mat.p\n",
      "Camera Calibration data restored from ./camera_cal/calibration_mat.p\n"
     ]
    },
    {
     "name": "stderr",
     "output_type": "stream",
     "text": [
      " 78%|███████▊  | 195/251 [00:32<00:09,  5.88it/s]"
     ]
    },
    {
     "name": "stdout",
     "output_type": "stream",
     "text": [
      "Camera Calibration data restored from ./camera_cal/calibration_mat.p\n",
      "Camera Calibration data restored from ./camera_cal/calibration_mat.p\n"
     ]
    },
    {
     "name": "stderr",
     "output_type": "stream",
     "text": [
      " 78%|███████▊  | 197/251 [00:33<00:09,  5.78it/s]"
     ]
    },
    {
     "name": "stdout",
     "output_type": "stream",
     "text": [
      "Camera Calibration data restored from ./camera_cal/calibration_mat.p\n",
      "Camera Calibration data restored from ./camera_cal/calibration_mat.p\n"
     ]
    },
    {
     "name": "stderr",
     "output_type": "stream",
     "text": [
      " 79%|███████▉  | 199/251 [00:33<00:08,  5.97it/s]"
     ]
    },
    {
     "name": "stdout",
     "output_type": "stream",
     "text": [
      "Camera Calibration data restored from ./camera_cal/calibration_mat.p\n",
      "Camera Calibration data restored from ./camera_cal/calibration_mat.p\n"
     ]
    },
    {
     "name": "stderr",
     "output_type": "stream",
     "text": [
      " 80%|████████  | 201/251 [00:33<00:08,  6.01it/s]"
     ]
    },
    {
     "name": "stdout",
     "output_type": "stream",
     "text": [
      "Camera Calibration data restored from ./camera_cal/calibration_mat.p\n",
      "Camera Calibration data restored from ./camera_cal/calibration_mat.p\n"
     ]
    },
    {
     "name": "stderr",
     "output_type": "stream",
     "text": [
      " 81%|████████  | 203/251 [00:34<00:07,  6.06it/s]"
     ]
    },
    {
     "name": "stdout",
     "output_type": "stream",
     "text": [
      "Camera Calibration data restored from ./camera_cal/calibration_mat.p\n",
      "Camera Calibration data restored from ./camera_cal/calibration_mat.p\n"
     ]
    },
    {
     "name": "stderr",
     "output_type": "stream",
     "text": [
      " 82%|████████▏ | 205/251 [00:34<00:07,  5.95it/s]"
     ]
    },
    {
     "name": "stdout",
     "output_type": "stream",
     "text": [
      "Camera Calibration data restored from ./camera_cal/calibration_mat.p\n",
      "Camera Calibration data restored from ./camera_cal/calibration_mat.p\n"
     ]
    },
    {
     "name": "stderr",
     "output_type": "stream",
     "text": [
      " 82%|████████▏ | 207/251 [00:34<00:07,  6.05it/s]"
     ]
    },
    {
     "name": "stdout",
     "output_type": "stream",
     "text": [
      "Camera Calibration data restored from ./camera_cal/calibration_mat.p\n",
      "Camera Calibration data restored from ./camera_cal/calibration_mat.p\n"
     ]
    },
    {
     "name": "stderr",
     "output_type": "stream",
     "text": [
      " 83%|████████▎ | 209/251 [00:35<00:06,  6.04it/s]"
     ]
    },
    {
     "name": "stdout",
     "output_type": "stream",
     "text": [
      "Camera Calibration data restored from ./camera_cal/calibration_mat.p\n",
      "Camera Calibration data restored from ./camera_cal/calibration_mat.p\n"
     ]
    },
    {
     "name": "stderr",
     "output_type": "stream",
     "text": [
      " 84%|████████▍ | 211/251 [00:35<00:06,  6.06it/s]"
     ]
    },
    {
     "name": "stdout",
     "output_type": "stream",
     "text": [
      "Camera Calibration data restored from ./camera_cal/calibration_mat.p\n",
      "Camera Calibration data restored from ./camera_cal/calibration_mat.p\n"
     ]
    },
    {
     "name": "stderr",
     "output_type": "stream",
     "text": [
      " 85%|████████▍ | 213/251 [00:35<00:06,  6.04it/s]"
     ]
    },
    {
     "name": "stdout",
     "output_type": "stream",
     "text": [
      "Camera Calibration data restored from ./camera_cal/calibration_mat.p\n",
      "Camera Calibration data restored from ./camera_cal/calibration_mat.p\n"
     ]
    },
    {
     "name": "stderr",
     "output_type": "stream",
     "text": [
      " 86%|████████▌ | 215/251 [00:36<00:06,  5.85it/s]"
     ]
    },
    {
     "name": "stdout",
     "output_type": "stream",
     "text": [
      "Camera Calibration data restored from ./camera_cal/calibration_mat.p\n",
      "Camera Calibration data restored from ./camera_cal/calibration_mat.p\n"
     ]
    },
    {
     "name": "stderr",
     "output_type": "stream",
     "text": [
      " 86%|████████▋ | 217/251 [00:36<00:05,  5.86it/s]"
     ]
    },
    {
     "name": "stdout",
     "output_type": "stream",
     "text": [
      "Camera Calibration data restored from ./camera_cal/calibration_mat.p\n",
      "Camera Calibration data restored from ./camera_cal/calibration_mat.p\n"
     ]
    },
    {
     "name": "stderr",
     "output_type": "stream",
     "text": [
      " 87%|████████▋ | 219/251 [00:36<00:05,  6.00it/s]"
     ]
    },
    {
     "name": "stdout",
     "output_type": "stream",
     "text": [
      "Camera Calibration data restored from ./camera_cal/calibration_mat.p\n",
      "Camera Calibration data restored from ./camera_cal/calibration_mat.p\n"
     ]
    },
    {
     "name": "stderr",
     "output_type": "stream",
     "text": [
      " 88%|████████▊ | 221/251 [00:37<00:04,  6.03it/s]"
     ]
    },
    {
     "name": "stdout",
     "output_type": "stream",
     "text": [
      "Camera Calibration data restored from ./camera_cal/calibration_mat.p\n",
      "Camera Calibration data restored from ./camera_cal/calibration_mat.p\n"
     ]
    },
    {
     "name": "stderr",
     "output_type": "stream",
     "text": [
      " 89%|████████▉ | 223/251 [00:37<00:04,  6.18it/s]"
     ]
    },
    {
     "name": "stdout",
     "output_type": "stream",
     "text": [
      "Camera Calibration data restored from ./camera_cal/calibration_mat.p\n",
      "Camera Calibration data restored from ./camera_cal/calibration_mat.p\n"
     ]
    },
    {
     "name": "stderr",
     "output_type": "stream",
     "text": [
      " 90%|████████▉ | 225/251 [00:37<00:04,  6.08it/s]"
     ]
    },
    {
     "name": "stdout",
     "output_type": "stream",
     "text": [
      "Camera Calibration data restored from ./camera_cal/calibration_mat.p\n",
      "Camera Calibration data restored from ./camera_cal/calibration_mat.p\n"
     ]
    },
    {
     "name": "stderr",
     "output_type": "stream",
     "text": [
      " 90%|█████████ | 227/251 [00:38<00:04,  5.94it/s]"
     ]
    },
    {
     "name": "stdout",
     "output_type": "stream",
     "text": [
      "Camera Calibration data restored from ./camera_cal/calibration_mat.p\n",
      "Camera Calibration data restored from ./camera_cal/calibration_mat.p\n"
     ]
    },
    {
     "name": "stderr",
     "output_type": "stream",
     "text": [
      " 91%|█████████ | 229/251 [00:38<00:03,  5.89it/s]"
     ]
    },
    {
     "name": "stdout",
     "output_type": "stream",
     "text": [
      "Camera Calibration data restored from ./camera_cal/calibration_mat.p\n",
      "Camera Calibration data restored from ./camera_cal/calibration_mat.p\n"
     ]
    },
    {
     "name": "stderr",
     "output_type": "stream",
     "text": [
      " 92%|█████████▏| 231/251 [00:38<00:03,  5.99it/s]"
     ]
    },
    {
     "name": "stdout",
     "output_type": "stream",
     "text": [
      "Camera Calibration data restored from ./camera_cal/calibration_mat.p\n",
      "Camera Calibration data restored from ./camera_cal/calibration_mat.p\n"
     ]
    },
    {
     "name": "stderr",
     "output_type": "stream",
     "text": [
      " 93%|█████████▎| 233/251 [00:39<00:03,  5.96it/s]"
     ]
    },
    {
     "name": "stdout",
     "output_type": "stream",
     "text": [
      "Camera Calibration data restored from ./camera_cal/calibration_mat.p\n",
      "Camera Calibration data restored from ./camera_cal/calibration_mat.p\n"
     ]
    },
    {
     "name": "stderr",
     "output_type": "stream",
     "text": [
      " 94%|█████████▎| 235/251 [00:39<00:02,  5.95it/s]"
     ]
    },
    {
     "name": "stdout",
     "output_type": "stream",
     "text": [
      "Camera Calibration data restored from ./camera_cal/calibration_mat.p\n",
      "Camera Calibration data restored from ./camera_cal/calibration_mat.p\n"
     ]
    },
    {
     "name": "stderr",
     "output_type": "stream",
     "text": [
      " 94%|█████████▍| 237/251 [00:39<00:02,  5.96it/s]"
     ]
    },
    {
     "name": "stdout",
     "output_type": "stream",
     "text": [
      "Camera Calibration data restored from ./camera_cal/calibration_mat.p\n",
      "Camera Calibration data restored from ./camera_cal/calibration_mat.p\n"
     ]
    },
    {
     "name": "stderr",
     "output_type": "stream",
     "text": [
      " 95%|█████████▌| 239/251 [00:40<00:02,  5.92it/s]"
     ]
    },
    {
     "name": "stdout",
     "output_type": "stream",
     "text": [
      "Camera Calibration data restored from ./camera_cal/calibration_mat.p\n",
      "Camera Calibration data restored from ./camera_cal/calibration_mat.p\n"
     ]
    },
    {
     "name": "stderr",
     "output_type": "stream",
     "text": [
      " 96%|█████████▌| 241/251 [00:40<00:01,  6.01it/s]"
     ]
    },
    {
     "name": "stdout",
     "output_type": "stream",
     "text": [
      "Camera Calibration data restored from ./camera_cal/calibration_mat.p\n",
      "Camera Calibration data restored from ./camera_cal/calibration_mat.p\n"
     ]
    },
    {
     "name": "stderr",
     "output_type": "stream",
     "text": [
      " 97%|█████████▋| 243/251 [00:40<00:01,  5.93it/s]"
     ]
    },
    {
     "name": "stdout",
     "output_type": "stream",
     "text": [
      "Camera Calibration data restored from ./camera_cal/calibration_mat.p\n",
      "Camera Calibration data restored from ./camera_cal/calibration_mat.p\n"
     ]
    },
    {
     "name": "stderr",
     "output_type": "stream",
     "text": [
      " 98%|█████████▊| 245/251 [00:41<00:00,  6.08it/s]"
     ]
    },
    {
     "name": "stdout",
     "output_type": "stream",
     "text": [
      "Camera Calibration data restored from ./camera_cal/calibration_mat.p\n",
      "Camera Calibration data restored from ./camera_cal/calibration_mat.p\n"
     ]
    },
    {
     "name": "stderr",
     "output_type": "stream",
     "text": [
      " 98%|█████████▊| 247/251 [00:41<00:00,  6.04it/s]"
     ]
    },
    {
     "name": "stdout",
     "output_type": "stream",
     "text": [
      "Camera Calibration data restored from ./camera_cal/calibration_mat.p\n",
      "Camera Calibration data restored from ./camera_cal/calibration_mat.p\n"
     ]
    },
    {
     "name": "stderr",
     "output_type": "stream",
     "text": [
      " 99%|█████████▉| 249/251 [00:41<00:00,  6.03it/s]"
     ]
    },
    {
     "name": "stdout",
     "output_type": "stream",
     "text": [
      "Camera Calibration data restored from ./camera_cal/calibration_mat.p\n",
      "Camera Calibration data restored from ./camera_cal/calibration_mat.p\n"
     ]
    },
    {
     "name": "stderr",
     "output_type": "stream",
     "text": [
      "100%|██████████| 251/251 [00:42<00:00,  5.90it/s]\n"
     ]
    },
    {
     "name": "stdout",
     "output_type": "stream",
     "text": [
      "Camera Calibration data restored from ./camera_cal/calibration_mat.p\n",
      "[MoviePy] Done.\n",
      "[MoviePy] >>>> Video ready: output.mp4 \n",
      "\n"
     ]
    }
   ],
   "source": [
    "output = 'output.mp4'\n",
    "clip1 = VideoFileClip(\"./challenge.mp4\")\n",
    "clip = clip1.fl_image(process_image)   # NOTE: this function expects color images!!\n",
    "clip.write_videofile(output, audio=False)"
   ]
  },
  {
   "cell_type": "code",
   "execution_count": null,
   "metadata": {
    "collapsed": true
   },
   "outputs": [],
   "source": []
  }
 ],
 "metadata": {
  "kernelspec": {
   "display_name": "Python 3",
   "language": "python",
   "name": "python3"
  },
  "language_info": {
   "codemirror_mode": {
    "name": "ipython",
    "version": 3
   },
   "file_extension": ".py",
   "mimetype": "text/x-python",
   "name": "python",
   "nbconvert_exporter": "python",
   "pygments_lexer": "ipython3",
   "version": "3.5.2"
  }
 },
 "nbformat": 4,
 "nbformat_minor": 0
}
